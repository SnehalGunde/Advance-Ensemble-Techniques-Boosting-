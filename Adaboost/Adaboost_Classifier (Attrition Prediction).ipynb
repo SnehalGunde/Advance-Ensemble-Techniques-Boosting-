{
 "cells": [
  {
   "cell_type": "code",
   "execution_count": 1,
   "id": "6ec51907",
   "metadata": {},
   "outputs": [],
   "source": [
    "#Importing the libraries\n",
    "import pandas as pd\n",
    "import numpy as np\n",
    "import seaborn as sns\n",
    "import matplotlib.pyplot as plt\n",
    "%matplotlib inline\n",
    "import plotly.offline as py\n",
    "import plotly.graph_objs as go\n",
    "from sklearn.model_selection import train_test_split\n",
    "from sklearn.tree import DecisionTreeClassifier\n",
    "from sklearn.ensemble import AdaBoostClassifier\n",
    "from sklearn.preprocessing import StandardScaler\n",
    "from sklearn.metrics import (accuracy_score, log_loss, confusion_matrix)\n",
    "#Suppressing warnings\n",
    "import warnings\n",
    "warnings.filterwarnings('ignore')"
   ]
  },
  {
   "cell_type": "markdown",
   "id": "1db34712",
   "metadata": {},
   "source": [
    "## Step1 : Loading and describing Data"
   ]
  },
  {
   "cell_type": "code",
   "execution_count": 2,
   "id": "2b8ce0d5",
   "metadata": {},
   "outputs": [],
   "source": [
    "df = pd.read_csv(\"WA_Fn-UseC_-HR-Employee-Attrition.csv\")"
   ]
  },
  {
   "cell_type": "code",
   "execution_count": 3,
   "id": "56a047e0",
   "metadata": {},
   "outputs": [
    {
     "data": {
      "text/html": [
       "<div>\n",
       "<style scoped>\n",
       "    .dataframe tbody tr th:only-of-type {\n",
       "        vertical-align: middle;\n",
       "    }\n",
       "\n",
       "    .dataframe tbody tr th {\n",
       "        vertical-align: top;\n",
       "    }\n",
       "\n",
       "    .dataframe thead th {\n",
       "        text-align: right;\n",
       "    }\n",
       "</style>\n",
       "<table border=\"1\" class=\"dataframe\">\n",
       "  <thead>\n",
       "    <tr style=\"text-align: right;\">\n",
       "      <th></th>\n",
       "      <th>Age</th>\n",
       "      <th>Attrition</th>\n",
       "      <th>BusinessTravel</th>\n",
       "      <th>DailyRate</th>\n",
       "      <th>Department</th>\n",
       "      <th>DistanceFromHome</th>\n",
       "      <th>Education</th>\n",
       "      <th>EducationField</th>\n",
       "      <th>EmployeeCount</th>\n",
       "      <th>EmployeeNumber</th>\n",
       "      <th>...</th>\n",
       "      <th>RelationshipSatisfaction</th>\n",
       "      <th>StandardHours</th>\n",
       "      <th>StockOptionLevel</th>\n",
       "      <th>TotalWorkingYears</th>\n",
       "      <th>TrainingTimesLastYear</th>\n",
       "      <th>WorkLifeBalance</th>\n",
       "      <th>YearsAtCompany</th>\n",
       "      <th>YearsInCurrentRole</th>\n",
       "      <th>YearsSinceLastPromotion</th>\n",
       "      <th>YearsWithCurrManager</th>\n",
       "    </tr>\n",
       "  </thead>\n",
       "  <tbody>\n",
       "    <tr>\n",
       "      <th>0</th>\n",
       "      <td>41</td>\n",
       "      <td>Yes</td>\n",
       "      <td>Travel_Rarely</td>\n",
       "      <td>1102</td>\n",
       "      <td>Sales</td>\n",
       "      <td>1</td>\n",
       "      <td>2</td>\n",
       "      <td>Life Sciences</td>\n",
       "      <td>1</td>\n",
       "      <td>1</td>\n",
       "      <td>...</td>\n",
       "      <td>1</td>\n",
       "      <td>80</td>\n",
       "      <td>0</td>\n",
       "      <td>8</td>\n",
       "      <td>0</td>\n",
       "      <td>1</td>\n",
       "      <td>6</td>\n",
       "      <td>4</td>\n",
       "      <td>0</td>\n",
       "      <td>5</td>\n",
       "    </tr>\n",
       "    <tr>\n",
       "      <th>1</th>\n",
       "      <td>49</td>\n",
       "      <td>No</td>\n",
       "      <td>Travel_Frequently</td>\n",
       "      <td>279</td>\n",
       "      <td>Research &amp; Development</td>\n",
       "      <td>8</td>\n",
       "      <td>1</td>\n",
       "      <td>Life Sciences</td>\n",
       "      <td>1</td>\n",
       "      <td>2</td>\n",
       "      <td>...</td>\n",
       "      <td>4</td>\n",
       "      <td>80</td>\n",
       "      <td>1</td>\n",
       "      <td>10</td>\n",
       "      <td>3</td>\n",
       "      <td>3</td>\n",
       "      <td>10</td>\n",
       "      <td>7</td>\n",
       "      <td>1</td>\n",
       "      <td>7</td>\n",
       "    </tr>\n",
       "    <tr>\n",
       "      <th>2</th>\n",
       "      <td>37</td>\n",
       "      <td>Yes</td>\n",
       "      <td>Travel_Rarely</td>\n",
       "      <td>1373</td>\n",
       "      <td>Research &amp; Development</td>\n",
       "      <td>2</td>\n",
       "      <td>2</td>\n",
       "      <td>Other</td>\n",
       "      <td>1</td>\n",
       "      <td>4</td>\n",
       "      <td>...</td>\n",
       "      <td>2</td>\n",
       "      <td>80</td>\n",
       "      <td>0</td>\n",
       "      <td>7</td>\n",
       "      <td>3</td>\n",
       "      <td>3</td>\n",
       "      <td>0</td>\n",
       "      <td>0</td>\n",
       "      <td>0</td>\n",
       "      <td>0</td>\n",
       "    </tr>\n",
       "    <tr>\n",
       "      <th>3</th>\n",
       "      <td>33</td>\n",
       "      <td>No</td>\n",
       "      <td>Travel_Frequently</td>\n",
       "      <td>1392</td>\n",
       "      <td>Research &amp; Development</td>\n",
       "      <td>3</td>\n",
       "      <td>4</td>\n",
       "      <td>Life Sciences</td>\n",
       "      <td>1</td>\n",
       "      <td>5</td>\n",
       "      <td>...</td>\n",
       "      <td>3</td>\n",
       "      <td>80</td>\n",
       "      <td>0</td>\n",
       "      <td>8</td>\n",
       "      <td>3</td>\n",
       "      <td>3</td>\n",
       "      <td>8</td>\n",
       "      <td>7</td>\n",
       "      <td>3</td>\n",
       "      <td>0</td>\n",
       "    </tr>\n",
       "    <tr>\n",
       "      <th>4</th>\n",
       "      <td>27</td>\n",
       "      <td>No</td>\n",
       "      <td>Travel_Rarely</td>\n",
       "      <td>591</td>\n",
       "      <td>Research &amp; Development</td>\n",
       "      <td>2</td>\n",
       "      <td>1</td>\n",
       "      <td>Medical</td>\n",
       "      <td>1</td>\n",
       "      <td>7</td>\n",
       "      <td>...</td>\n",
       "      <td>4</td>\n",
       "      <td>80</td>\n",
       "      <td>1</td>\n",
       "      <td>6</td>\n",
       "      <td>3</td>\n",
       "      <td>3</td>\n",
       "      <td>2</td>\n",
       "      <td>2</td>\n",
       "      <td>2</td>\n",
       "      <td>2</td>\n",
       "    </tr>\n",
       "  </tbody>\n",
       "</table>\n",
       "<p>5 rows × 35 columns</p>\n",
       "</div>"
      ],
      "text/plain": [
       "   Age Attrition     BusinessTravel  DailyRate              Department  \\\n",
       "0   41       Yes      Travel_Rarely       1102                   Sales   \n",
       "1   49        No  Travel_Frequently        279  Research & Development   \n",
       "2   37       Yes      Travel_Rarely       1373  Research & Development   \n",
       "3   33        No  Travel_Frequently       1392  Research & Development   \n",
       "4   27        No      Travel_Rarely        591  Research & Development   \n",
       "\n",
       "   DistanceFromHome  Education EducationField  EmployeeCount  EmployeeNumber  \\\n",
       "0                 1          2  Life Sciences              1               1   \n",
       "1                 8          1  Life Sciences              1               2   \n",
       "2                 2          2          Other              1               4   \n",
       "3                 3          4  Life Sciences              1               5   \n",
       "4                 2          1        Medical              1               7   \n",
       "\n",
       "   ...  RelationshipSatisfaction StandardHours  StockOptionLevel  \\\n",
       "0  ...                         1            80                 0   \n",
       "1  ...                         4            80                 1   \n",
       "2  ...                         2            80                 0   \n",
       "3  ...                         3            80                 0   \n",
       "4  ...                         4            80                 1   \n",
       "\n",
       "   TotalWorkingYears  TrainingTimesLastYear WorkLifeBalance  YearsAtCompany  \\\n",
       "0                  8                      0               1               6   \n",
       "1                 10                      3               3              10   \n",
       "2                  7                      3               3               0   \n",
       "3                  8                      3               3               8   \n",
       "4                  6                      3               3               2   \n",
       "\n",
       "  YearsInCurrentRole  YearsSinceLastPromotion  YearsWithCurrManager  \n",
       "0                  4                        0                     5  \n",
       "1                  7                        1                     7  \n",
       "2                  0                        0                     0  \n",
       "3                  7                        3                     0  \n",
       "4                  2                        2                     2  \n",
       "\n",
       "[5 rows x 35 columns]"
      ]
     },
     "execution_count": 3,
     "metadata": {},
     "output_type": "execute_result"
    }
   ],
   "source": [
    "df.head()"
   ]
  },
  {
   "cell_type": "code",
   "execution_count": 4,
   "id": "538f3a4b",
   "metadata": {},
   "outputs": [
    {
     "data": {
      "text/html": [
       "<div>\n",
       "<style scoped>\n",
       "    .dataframe tbody tr th:only-of-type {\n",
       "        vertical-align: middle;\n",
       "    }\n",
       "\n",
       "    .dataframe tbody tr th {\n",
       "        vertical-align: top;\n",
       "    }\n",
       "\n",
       "    .dataframe thead th {\n",
       "        text-align: right;\n",
       "    }\n",
       "</style>\n",
       "<table border=\"1\" class=\"dataframe\">\n",
       "  <thead>\n",
       "    <tr style=\"text-align: right;\">\n",
       "      <th></th>\n",
       "      <th>Age</th>\n",
       "      <th>DailyRate</th>\n",
       "      <th>DistanceFromHome</th>\n",
       "      <th>Education</th>\n",
       "      <th>EmployeeCount</th>\n",
       "      <th>EmployeeNumber</th>\n",
       "      <th>EnvironmentSatisfaction</th>\n",
       "      <th>HourlyRate</th>\n",
       "      <th>JobInvolvement</th>\n",
       "      <th>JobLevel</th>\n",
       "      <th>...</th>\n",
       "      <th>RelationshipSatisfaction</th>\n",
       "      <th>StandardHours</th>\n",
       "      <th>StockOptionLevel</th>\n",
       "      <th>TotalWorkingYears</th>\n",
       "      <th>TrainingTimesLastYear</th>\n",
       "      <th>WorkLifeBalance</th>\n",
       "      <th>YearsAtCompany</th>\n",
       "      <th>YearsInCurrentRole</th>\n",
       "      <th>YearsSinceLastPromotion</th>\n",
       "      <th>YearsWithCurrManager</th>\n",
       "    </tr>\n",
       "  </thead>\n",
       "  <tbody>\n",
       "    <tr>\n",
       "      <th>count</th>\n",
       "      <td>1470.000000</td>\n",
       "      <td>1470.000000</td>\n",
       "      <td>1470.000000</td>\n",
       "      <td>1470.000000</td>\n",
       "      <td>1470.0</td>\n",
       "      <td>1470.000000</td>\n",
       "      <td>1470.000000</td>\n",
       "      <td>1470.000000</td>\n",
       "      <td>1470.000000</td>\n",
       "      <td>1470.000000</td>\n",
       "      <td>...</td>\n",
       "      <td>1470.000000</td>\n",
       "      <td>1470.0</td>\n",
       "      <td>1470.000000</td>\n",
       "      <td>1470.000000</td>\n",
       "      <td>1470.000000</td>\n",
       "      <td>1470.000000</td>\n",
       "      <td>1470.000000</td>\n",
       "      <td>1470.000000</td>\n",
       "      <td>1470.000000</td>\n",
       "      <td>1470.000000</td>\n",
       "    </tr>\n",
       "    <tr>\n",
       "      <th>mean</th>\n",
       "      <td>36.923810</td>\n",
       "      <td>802.485714</td>\n",
       "      <td>9.192517</td>\n",
       "      <td>2.912925</td>\n",
       "      <td>1.0</td>\n",
       "      <td>1024.865306</td>\n",
       "      <td>2.721769</td>\n",
       "      <td>65.891156</td>\n",
       "      <td>2.729932</td>\n",
       "      <td>2.063946</td>\n",
       "      <td>...</td>\n",
       "      <td>2.712245</td>\n",
       "      <td>80.0</td>\n",
       "      <td>0.793878</td>\n",
       "      <td>11.279592</td>\n",
       "      <td>2.799320</td>\n",
       "      <td>2.761224</td>\n",
       "      <td>7.008163</td>\n",
       "      <td>4.229252</td>\n",
       "      <td>2.187755</td>\n",
       "      <td>4.123129</td>\n",
       "    </tr>\n",
       "    <tr>\n",
       "      <th>std</th>\n",
       "      <td>9.135373</td>\n",
       "      <td>403.509100</td>\n",
       "      <td>8.106864</td>\n",
       "      <td>1.024165</td>\n",
       "      <td>0.0</td>\n",
       "      <td>602.024335</td>\n",
       "      <td>1.093082</td>\n",
       "      <td>20.329428</td>\n",
       "      <td>0.711561</td>\n",
       "      <td>1.106940</td>\n",
       "      <td>...</td>\n",
       "      <td>1.081209</td>\n",
       "      <td>0.0</td>\n",
       "      <td>0.852077</td>\n",
       "      <td>7.780782</td>\n",
       "      <td>1.289271</td>\n",
       "      <td>0.706476</td>\n",
       "      <td>6.126525</td>\n",
       "      <td>3.623137</td>\n",
       "      <td>3.222430</td>\n",
       "      <td>3.568136</td>\n",
       "    </tr>\n",
       "    <tr>\n",
       "      <th>min</th>\n",
       "      <td>18.000000</td>\n",
       "      <td>102.000000</td>\n",
       "      <td>1.000000</td>\n",
       "      <td>1.000000</td>\n",
       "      <td>1.0</td>\n",
       "      <td>1.000000</td>\n",
       "      <td>1.000000</td>\n",
       "      <td>30.000000</td>\n",
       "      <td>1.000000</td>\n",
       "      <td>1.000000</td>\n",
       "      <td>...</td>\n",
       "      <td>1.000000</td>\n",
       "      <td>80.0</td>\n",
       "      <td>0.000000</td>\n",
       "      <td>0.000000</td>\n",
       "      <td>0.000000</td>\n",
       "      <td>1.000000</td>\n",
       "      <td>0.000000</td>\n",
       "      <td>0.000000</td>\n",
       "      <td>0.000000</td>\n",
       "      <td>0.000000</td>\n",
       "    </tr>\n",
       "    <tr>\n",
       "      <th>25%</th>\n",
       "      <td>30.000000</td>\n",
       "      <td>465.000000</td>\n",
       "      <td>2.000000</td>\n",
       "      <td>2.000000</td>\n",
       "      <td>1.0</td>\n",
       "      <td>491.250000</td>\n",
       "      <td>2.000000</td>\n",
       "      <td>48.000000</td>\n",
       "      <td>2.000000</td>\n",
       "      <td>1.000000</td>\n",
       "      <td>...</td>\n",
       "      <td>2.000000</td>\n",
       "      <td>80.0</td>\n",
       "      <td>0.000000</td>\n",
       "      <td>6.000000</td>\n",
       "      <td>2.000000</td>\n",
       "      <td>2.000000</td>\n",
       "      <td>3.000000</td>\n",
       "      <td>2.000000</td>\n",
       "      <td>0.000000</td>\n",
       "      <td>2.000000</td>\n",
       "    </tr>\n",
       "    <tr>\n",
       "      <th>50%</th>\n",
       "      <td>36.000000</td>\n",
       "      <td>802.000000</td>\n",
       "      <td>7.000000</td>\n",
       "      <td>3.000000</td>\n",
       "      <td>1.0</td>\n",
       "      <td>1020.500000</td>\n",
       "      <td>3.000000</td>\n",
       "      <td>66.000000</td>\n",
       "      <td>3.000000</td>\n",
       "      <td>2.000000</td>\n",
       "      <td>...</td>\n",
       "      <td>3.000000</td>\n",
       "      <td>80.0</td>\n",
       "      <td>1.000000</td>\n",
       "      <td>10.000000</td>\n",
       "      <td>3.000000</td>\n",
       "      <td>3.000000</td>\n",
       "      <td>5.000000</td>\n",
       "      <td>3.000000</td>\n",
       "      <td>1.000000</td>\n",
       "      <td>3.000000</td>\n",
       "    </tr>\n",
       "    <tr>\n",
       "      <th>75%</th>\n",
       "      <td>43.000000</td>\n",
       "      <td>1157.000000</td>\n",
       "      <td>14.000000</td>\n",
       "      <td>4.000000</td>\n",
       "      <td>1.0</td>\n",
       "      <td>1555.750000</td>\n",
       "      <td>4.000000</td>\n",
       "      <td>83.750000</td>\n",
       "      <td>3.000000</td>\n",
       "      <td>3.000000</td>\n",
       "      <td>...</td>\n",
       "      <td>4.000000</td>\n",
       "      <td>80.0</td>\n",
       "      <td>1.000000</td>\n",
       "      <td>15.000000</td>\n",
       "      <td>3.000000</td>\n",
       "      <td>3.000000</td>\n",
       "      <td>9.000000</td>\n",
       "      <td>7.000000</td>\n",
       "      <td>3.000000</td>\n",
       "      <td>7.000000</td>\n",
       "    </tr>\n",
       "    <tr>\n",
       "      <th>max</th>\n",
       "      <td>60.000000</td>\n",
       "      <td>1499.000000</td>\n",
       "      <td>29.000000</td>\n",
       "      <td>5.000000</td>\n",
       "      <td>1.0</td>\n",
       "      <td>2068.000000</td>\n",
       "      <td>4.000000</td>\n",
       "      <td>100.000000</td>\n",
       "      <td>4.000000</td>\n",
       "      <td>5.000000</td>\n",
       "      <td>...</td>\n",
       "      <td>4.000000</td>\n",
       "      <td>80.0</td>\n",
       "      <td>3.000000</td>\n",
       "      <td>40.000000</td>\n",
       "      <td>6.000000</td>\n",
       "      <td>4.000000</td>\n",
       "      <td>40.000000</td>\n",
       "      <td>18.000000</td>\n",
       "      <td>15.000000</td>\n",
       "      <td>17.000000</td>\n",
       "    </tr>\n",
       "  </tbody>\n",
       "</table>\n",
       "<p>8 rows × 26 columns</p>\n",
       "</div>"
      ],
      "text/plain": [
       "               Age    DailyRate  DistanceFromHome    Education  EmployeeCount  \\\n",
       "count  1470.000000  1470.000000       1470.000000  1470.000000         1470.0   \n",
       "mean     36.923810   802.485714          9.192517     2.912925            1.0   \n",
       "std       9.135373   403.509100          8.106864     1.024165            0.0   \n",
       "min      18.000000   102.000000          1.000000     1.000000            1.0   \n",
       "25%      30.000000   465.000000          2.000000     2.000000            1.0   \n",
       "50%      36.000000   802.000000          7.000000     3.000000            1.0   \n",
       "75%      43.000000  1157.000000         14.000000     4.000000            1.0   \n",
       "max      60.000000  1499.000000         29.000000     5.000000            1.0   \n",
       "\n",
       "       EmployeeNumber  EnvironmentSatisfaction   HourlyRate  JobInvolvement  \\\n",
       "count     1470.000000              1470.000000  1470.000000     1470.000000   \n",
       "mean      1024.865306                 2.721769    65.891156        2.729932   \n",
       "std        602.024335                 1.093082    20.329428        0.711561   \n",
       "min          1.000000                 1.000000    30.000000        1.000000   \n",
       "25%        491.250000                 2.000000    48.000000        2.000000   \n",
       "50%       1020.500000                 3.000000    66.000000        3.000000   \n",
       "75%       1555.750000                 4.000000    83.750000        3.000000   \n",
       "max       2068.000000                 4.000000   100.000000        4.000000   \n",
       "\n",
       "          JobLevel  ...  RelationshipSatisfaction  StandardHours  \\\n",
       "count  1470.000000  ...               1470.000000         1470.0   \n",
       "mean      2.063946  ...                  2.712245           80.0   \n",
       "std       1.106940  ...                  1.081209            0.0   \n",
       "min       1.000000  ...                  1.000000           80.0   \n",
       "25%       1.000000  ...                  2.000000           80.0   \n",
       "50%       2.000000  ...                  3.000000           80.0   \n",
       "75%       3.000000  ...                  4.000000           80.0   \n",
       "max       5.000000  ...                  4.000000           80.0   \n",
       "\n",
       "       StockOptionLevel  TotalWorkingYears  TrainingTimesLastYear  \\\n",
       "count       1470.000000        1470.000000            1470.000000   \n",
       "mean           0.793878          11.279592               2.799320   \n",
       "std            0.852077           7.780782               1.289271   \n",
       "min            0.000000           0.000000               0.000000   \n",
       "25%            0.000000           6.000000               2.000000   \n",
       "50%            1.000000          10.000000               3.000000   \n",
       "75%            1.000000          15.000000               3.000000   \n",
       "max            3.000000          40.000000               6.000000   \n",
       "\n",
       "       WorkLifeBalance  YearsAtCompany  YearsInCurrentRole  \\\n",
       "count      1470.000000     1470.000000         1470.000000   \n",
       "mean          2.761224        7.008163            4.229252   \n",
       "std           0.706476        6.126525            3.623137   \n",
       "min           1.000000        0.000000            0.000000   \n",
       "25%           2.000000        3.000000            2.000000   \n",
       "50%           3.000000        5.000000            3.000000   \n",
       "75%           3.000000        9.000000            7.000000   \n",
       "max           4.000000       40.000000           18.000000   \n",
       "\n",
       "       YearsSinceLastPromotion  YearsWithCurrManager  \n",
       "count              1470.000000           1470.000000  \n",
       "mean                  2.187755              4.123129  \n",
       "std                   3.222430              3.568136  \n",
       "min                   0.000000              0.000000  \n",
       "25%                   0.000000              2.000000  \n",
       "50%                   1.000000              3.000000  \n",
       "75%                   3.000000              7.000000  \n",
       "max                  15.000000             17.000000  \n",
       "\n",
       "[8 rows x 26 columns]"
      ]
     },
     "execution_count": 4,
     "metadata": {},
     "output_type": "execute_result"
    }
   ],
   "source": [
    "df.describe()"
   ]
  },
  {
   "cell_type": "code",
   "execution_count": 5,
   "id": "24ac6994",
   "metadata": {},
   "outputs": [
    {
     "name": "stdout",
     "output_type": "stream",
     "text": [
      "<class 'pandas.core.frame.DataFrame'>\n",
      "RangeIndex: 1470 entries, 0 to 1469\n",
      "Data columns (total 35 columns):\n",
      " #   Column                    Non-Null Count  Dtype \n",
      "---  ------                    --------------  ----- \n",
      " 0   Age                       1470 non-null   int64 \n",
      " 1   Attrition                 1470 non-null   object\n",
      " 2   BusinessTravel            1470 non-null   object\n",
      " 3   DailyRate                 1470 non-null   int64 \n",
      " 4   Department                1470 non-null   object\n",
      " 5   DistanceFromHome          1470 non-null   int64 \n",
      " 6   Education                 1470 non-null   int64 \n",
      " 7   EducationField            1470 non-null   object\n",
      " 8   EmployeeCount             1470 non-null   int64 \n",
      " 9   EmployeeNumber            1470 non-null   int64 \n",
      " 10  EnvironmentSatisfaction   1470 non-null   int64 \n",
      " 11  Gender                    1470 non-null   object\n",
      " 12  HourlyRate                1470 non-null   int64 \n",
      " 13  JobInvolvement            1470 non-null   int64 \n",
      " 14  JobLevel                  1470 non-null   int64 \n",
      " 15  JobRole                   1470 non-null   object\n",
      " 16  JobSatisfaction           1470 non-null   int64 \n",
      " 17  MaritalStatus             1470 non-null   object\n",
      " 18  MonthlyIncome             1470 non-null   int64 \n",
      " 19  MonthlyRate               1470 non-null   int64 \n",
      " 20  NumCompaniesWorked        1470 non-null   int64 \n",
      " 21  Over18                    1470 non-null   object\n",
      " 22  OverTime                  1470 non-null   object\n",
      " 23  PercentSalaryHike         1470 non-null   int64 \n",
      " 24  PerformanceRating         1470 non-null   int64 \n",
      " 25  RelationshipSatisfaction  1470 non-null   int64 \n",
      " 26  StandardHours             1470 non-null   int64 \n",
      " 27  StockOptionLevel          1470 non-null   int64 \n",
      " 28  TotalWorkingYears         1470 non-null   int64 \n",
      " 29  TrainingTimesLastYear     1470 non-null   int64 \n",
      " 30  WorkLifeBalance           1470 non-null   int64 \n",
      " 31  YearsAtCompany            1470 non-null   int64 \n",
      " 32  YearsInCurrentRole        1470 non-null   int64 \n",
      " 33  YearsSinceLastPromotion   1470 non-null   int64 \n",
      " 34  YearsWithCurrManager      1470 non-null   int64 \n",
      "dtypes: int64(26), object(9)\n",
      "memory usage: 402.1+ KB\n"
     ]
    }
   ],
   "source": [
    "df.info()"
   ]
  },
  {
   "cell_type": "code",
   "execution_count": 6,
   "id": "81f65952",
   "metadata": {},
   "outputs": [
    {
     "data": {
      "text/plain": [
       "Index(['Age', 'Attrition', 'BusinessTravel', 'DailyRate', 'Department',\n",
       "       'DistanceFromHome', 'Education', 'EducationField', 'EmployeeCount',\n",
       "       'EmployeeNumber', 'EnvironmentSatisfaction', 'Gender', 'HourlyRate',\n",
       "       'JobInvolvement', 'JobLevel', 'JobRole', 'JobSatisfaction',\n",
       "       'MaritalStatus', 'MonthlyIncome', 'MonthlyRate', 'NumCompaniesWorked',\n",
       "       'Over18', 'OverTime', 'PercentSalaryHike', 'PerformanceRating',\n",
       "       'RelationshipSatisfaction', 'StandardHours', 'StockOptionLevel',\n",
       "       'TotalWorkingYears', 'TrainingTimesLastYear', 'WorkLifeBalance',\n",
       "       'YearsAtCompany', 'YearsInCurrentRole', 'YearsSinceLastPromotion',\n",
       "       'YearsWithCurrManager'],\n",
       "      dtype='object')"
      ]
     },
     "execution_count": 6,
     "metadata": {},
     "output_type": "execute_result"
    }
   ],
   "source": [
    "df.columns"
   ]
  },
  {
   "cell_type": "markdown",
   "id": "0b983e85",
   "metadata": {},
   "source": [
    "#### Dependent variable :--> \n",
    "        Attrition (Yes/No) - Binary Classification Problem \n",
    "\n",
    "#### Independent variable :--> \n",
    "       # 'Age', 'BusinessTravel', 'DailyRate', 'Department',\n",
    "       #'DistanceFromHome', 'Education', 'EducationField', 'EmployeeCount',\n",
    "       #'EmployeeNumber', 'EnvironmentSatisfaction', 'Gender', 'HourlyRate',\n",
    "       #'JobInvolvement', 'JobLevel', 'JobRole', 'JobSatisfaction',\n",
    "       #'MaritalStatus', 'MonthlyIncome', 'MonthlyRate', 'NumCompaniesWorked',\n",
    "       #'Over18', 'OverTime', 'PercentSalaryHike', 'PerformanceRating',\n",
    "       #'RelationshipSatisfaction', 'StandardHours', 'StockOptionLevel',\n",
    "       #'TotalWorkingYears', 'TrainingTimesLastYear', 'WorkLifeBalance',\n",
    "       #'YearsAtCompany', 'YearsInCurrentRole', 'YearsSinceLastPromotion',\n",
    "       #'YearsWithCurrManager'"
   ]
  },
  {
   "cell_type": "code",
   "execution_count": 7,
   "id": "1cd8796a",
   "metadata": {
    "scrolled": true
   },
   "outputs": [
    {
     "data": {
      "image/png": "[encoded data removed]",
      "text/plain": [
       "<Figure size 360x360 with 1 Axes>"
      ]
     },
     "metadata": {
      "needs_background": "light"
     },
     "output_type": "display_data"
    }
   ],
   "source": [
    "#plot for attrition\n",
    "\n",
    "ax= sns.catplot(x=\"Attrition\", kind=\"count\", palette=\"ch:.25\",data=df)\n",
    "ax.set(xlabel=\"Attrition\",ylabel=\"Number of Employees\")\n",
    "plt.show()"
   ]
  },
  {
   "cell_type": "markdown",
   "id": "e787c29e",
   "metadata": {},
   "source": [
    "## Step 2: Preprocessing the data"
   ]
  },
  {
   "cell_type": "code",
   "execution_count": 8,
   "id": "26c5a53b",
   "metadata": {},
   "outputs": [
    {
     "data": {
      "text/plain": [
       "Age                         0.0\n",
       "Attrition                   0.0\n",
       "BusinessTravel              0.0\n",
       "DailyRate                   0.0\n",
       "Department                  0.0\n",
       "DistanceFromHome            0.0\n",
       "Education                   0.0\n",
       "EducationField              0.0\n",
       "EmployeeCount               0.0\n",
       "EmployeeNumber              0.0\n",
       "EnvironmentSatisfaction     0.0\n",
       "Gender                      0.0\n",
       "HourlyRate                  0.0\n",
       "JobInvolvement              0.0\n",
       "JobLevel                    0.0\n",
       "JobRole                     0.0\n",
       "JobSatisfaction             0.0\n",
       "MaritalStatus               0.0\n",
       "MonthlyIncome               0.0\n",
       "MonthlyRate                 0.0\n",
       "NumCompaniesWorked          0.0\n",
       "Over18                      0.0\n",
       "OverTime                    0.0\n",
       "PercentSalaryHike           0.0\n",
       "PerformanceRating           0.0\n",
       "RelationshipSatisfaction    0.0\n",
       "StandardHours               0.0\n",
       "StockOptionLevel            0.0\n",
       "TotalWorkingYears           0.0\n",
       "TrainingTimesLastYear       0.0\n",
       "WorkLifeBalance             0.0\n",
       "YearsAtCompany              0.0\n",
       "YearsInCurrentRole          0.0\n",
       "YearsSinceLastPromotion     0.0\n",
       "YearsWithCurrManager        0.0\n",
       "dtype: float64"
      ]
     },
     "execution_count": 8,
     "metadata": {},
     "output_type": "execute_result"
    }
   ],
   "source": [
    "# checking if any missing values\n",
    "df.isnull().sum()*100/len(df)"
   ]
  },
  {
   "cell_type": "markdown",
   "id": "b7bfd80e",
   "metadata": {},
   "source": [
    "- No missing value in dataset"
   ]
  },
  {
   "cell_type": "code",
   "execution_count": 9,
   "id": "2a5691bf",
   "metadata": {},
   "outputs": [
    {
     "data": {
      "text/plain": [
       "Age                          int64\n",
       "Attrition                   object\n",
       "BusinessTravel              object\n",
       "DailyRate                    int64\n",
       "Department                  object\n",
       "DistanceFromHome             int64\n",
       "Education                    int64\n",
       "EducationField              object\n",
       "EmployeeCount                int64\n",
       "EmployeeNumber               int64\n",
       "EnvironmentSatisfaction      int64\n",
       "Gender                      object\n",
       "HourlyRate                   int64\n",
       "JobInvolvement               int64\n",
       "JobLevel                     int64\n",
       "JobRole                     object\n",
       "JobSatisfaction              int64\n",
       "MaritalStatus               object\n",
       "MonthlyIncome                int64\n",
       "MonthlyRate                  int64\n",
       "NumCompaniesWorked           int64\n",
       "Over18                      object\n",
       "OverTime                    object\n",
       "PercentSalaryHike            int64\n",
       "PerformanceRating            int64\n",
       "RelationshipSatisfaction     int64\n",
       "StandardHours                int64\n",
       "StockOptionLevel             int64\n",
       "TotalWorkingYears            int64\n",
       "TrainingTimesLastYear        int64\n",
       "WorkLifeBalance              int64\n",
       "YearsAtCompany               int64\n",
       "YearsInCurrentRole           int64\n",
       "YearsSinceLastPromotion      int64\n",
       "YearsWithCurrManager         int64\n",
       "dtype: object"
      ]
     },
     "execution_count": 9,
     "metadata": {},
     "output_type": "execute_result"
    }
   ],
   "source": [
    "df.dtypes"
   ]
  },
  {
   "cell_type": "markdown",
   "id": "ee0f20f2",
   "metadata": {},
   "source": [
    "## Step 3 : Feature Engineering"
   ]
  },
  {
   "cell_type": "markdown",
   "id": "be8bd2ea",
   "metadata": {},
   "source": [
    "- The numeric and categorical fields need to be treated separately.The following few steps separate the numeric and categorical fields and drops the target field 'Attrition' from the feature set."
   ]
  },
  {
   "cell_type": "code",
   "execution_count": 10,
   "id": "ef402912",
   "metadata": {
    "scrolled": true
   },
   "outputs": [
    {
     "data": {
      "text/plain": [
       "(1470, 35)"
      ]
     },
     "execution_count": 10,
     "metadata": {},
     "output_type": "execute_result"
    }
   ],
   "source": [
    "df.shape"
   ]
  },
  {
   "cell_type": "code",
   "execution_count": 11,
   "id": "0b2c04ef",
   "metadata": {},
   "outputs": [
    {
     "name": "stdout",
     "output_type": "stream",
     "text": [
      "<class 'pandas.core.frame.DataFrame'>\n",
      "RangeIndex: 1470 entries, 0 to 1469\n",
      "Data columns (total 35 columns):\n",
      " #   Column                    Non-Null Count  Dtype \n",
      "---  ------                    --------------  ----- \n",
      " 0   Age                       1470 non-null   int64 \n",
      " 1   Attrition                 1470 non-null   object\n",
      " 2   BusinessTravel            1470 non-null   object\n",
      " 3   DailyRate                 1470 non-null   int64 \n",
      " 4   Department                1470 non-null   object\n",
      " 5   DistanceFromHome          1470 non-null   int64 \n",
      " 6   Education                 1470 non-null   int64 \n",
      " 7   EducationField            1470 non-null   object\n",
      " 8   EmployeeCount             1470 non-null   int64 \n",
      " 9   EmployeeNumber            1470 non-null   int64 \n",
      " 10  EnvironmentSatisfaction   1470 non-null   int64 \n",
      " 11  Gender                    1470 non-null   object\n",
      " 12  HourlyRate                1470 non-null   int64 \n",
      " 13  JobInvolvement            1470 non-null   int64 \n",
      " 14  JobLevel                  1470 non-null   int64 \n",
      " 15  JobRole                   1470 non-null   object\n",
      " 16  JobSatisfaction           1470 non-null   int64 \n",
      " 17  MaritalStatus             1470 non-null   object\n",
      " 18  MonthlyIncome             1470 non-null   int64 \n",
      " 19  MonthlyRate               1470 non-null   int64 \n",
      " 20  NumCompaniesWorked        1470 non-null   int64 \n",
      " 21  Over18                    1470 non-null   object\n",
      " 22  OverTime                  1470 non-null   object\n",
      " 23  PercentSalaryHike         1470 non-null   int64 \n",
      " 24  PerformanceRating         1470 non-null   int64 \n",
      " 25  RelationshipSatisfaction  1470 non-null   int64 \n",
      " 26  StandardHours             1470 non-null   int64 \n",
      " 27  StockOptionLevel          1470 non-null   int64 \n",
      " 28  TotalWorkingYears         1470 non-null   int64 \n",
      " 29  TrainingTimesLastYear     1470 non-null   int64 \n",
      " 30  WorkLifeBalance           1470 non-null   int64 \n",
      " 31  YearsAtCompany            1470 non-null   int64 \n",
      " 32  YearsInCurrentRole        1470 non-null   int64 \n",
      " 33  YearsSinceLastPromotion   1470 non-null   int64 \n",
      " 34  YearsWithCurrManager      1470 non-null   int64 \n",
      "dtypes: int64(26), object(9)\n",
      "memory usage: 402.1+ KB\n"
     ]
    }
   ],
   "source": [
    "df.info()"
   ]
  },
  {
   "cell_type": "code",
   "execution_count": 12,
   "id": "afdef201",
   "metadata": {},
   "outputs": [
    {
     "name": "stdout",
     "output_type": "stream",
     "text": [
      "Shape of Numeric :  (1470, 26)\n",
      "Shape of Categorical :  (1470, 9)\n"
     ]
    }
   ],
   "source": [
    "# check for numerical and categorical variables\n",
    "df_numerical= pd.DataFrame(data=df.select_dtypes(include=[\"int64\"]))\n",
    "df_categorical= pd.DataFrame(data=df.select_dtypes(include=[\"object\"]))\n",
    "print(\"Shape of Numeric : \", df_numerical.shape)\n",
    "print(\"Shape of Categorical : \", df_categorical.shape)"
   ]
  },
  {
   "cell_type": "markdown",
   "id": "94870d20",
   "metadata": {},
   "source": [
    "### 3.1 Encoding categorical variable (convert to dummy variable)"
   ]
  },
  {
   "cell_type": "code",
   "execution_count": 13,
   "id": "4a868b41",
   "metadata": {},
   "outputs": [
    {
     "data": {
      "text/html": [
       "<div>\n",
       "<style scoped>\n",
       "    .dataframe tbody tr th:only-of-type {\n",
       "        vertical-align: middle;\n",
       "    }\n",
       "\n",
       "    .dataframe tbody tr th {\n",
       "        vertical-align: top;\n",
       "    }\n",
       "\n",
       "    .dataframe thead th {\n",
       "        text-align: right;\n",
       "    }\n",
       "</style>\n",
       "<table border=\"1\" class=\"dataframe\">\n",
       "  <thead>\n",
       "    <tr style=\"text-align: right;\">\n",
       "      <th></th>\n",
       "      <th>BusinessTravel_Non-Travel</th>\n",
       "      <th>BusinessTravel_Travel_Frequently</th>\n",
       "      <th>BusinessTravel_Travel_Rarely</th>\n",
       "      <th>Department_Human Resources</th>\n",
       "      <th>Department_Research &amp; Development</th>\n",
       "      <th>Department_Sales</th>\n",
       "      <th>EducationField_Human Resources</th>\n",
       "      <th>EducationField_Life Sciences</th>\n",
       "      <th>EducationField_Marketing</th>\n",
       "      <th>EducationField_Medical</th>\n",
       "      <th>...</th>\n",
       "      <th>JobRole_Research Director</th>\n",
       "      <th>JobRole_Research Scientist</th>\n",
       "      <th>JobRole_Sales Executive</th>\n",
       "      <th>JobRole_Sales Representative</th>\n",
       "      <th>MaritalStatus_Divorced</th>\n",
       "      <th>MaritalStatus_Married</th>\n",
       "      <th>MaritalStatus_Single</th>\n",
       "      <th>Over18_Y</th>\n",
       "      <th>OverTime_No</th>\n",
       "      <th>OverTime_Yes</th>\n",
       "    </tr>\n",
       "  </thead>\n",
       "  <tbody>\n",
       "    <tr>\n",
       "      <th>0</th>\n",
       "      <td>0</td>\n",
       "      <td>0</td>\n",
       "      <td>1</td>\n",
       "      <td>0</td>\n",
       "      <td>0</td>\n",
       "      <td>1</td>\n",
       "      <td>0</td>\n",
       "      <td>1</td>\n",
       "      <td>0</td>\n",
       "      <td>0</td>\n",
       "      <td>...</td>\n",
       "      <td>0</td>\n",
       "      <td>0</td>\n",
       "      <td>1</td>\n",
       "      <td>0</td>\n",
       "      <td>0</td>\n",
       "      <td>0</td>\n",
       "      <td>1</td>\n",
       "      <td>1</td>\n",
       "      <td>0</td>\n",
       "      <td>1</td>\n",
       "    </tr>\n",
       "    <tr>\n",
       "      <th>1</th>\n",
       "      <td>0</td>\n",
       "      <td>1</td>\n",
       "      <td>0</td>\n",
       "      <td>0</td>\n",
       "      <td>1</td>\n",
       "      <td>0</td>\n",
       "      <td>0</td>\n",
       "      <td>1</td>\n",
       "      <td>0</td>\n",
       "      <td>0</td>\n",
       "      <td>...</td>\n",
       "      <td>0</td>\n",
       "      <td>1</td>\n",
       "      <td>0</td>\n",
       "      <td>0</td>\n",
       "      <td>0</td>\n",
       "      <td>1</td>\n",
       "      <td>0</td>\n",
       "      <td>1</td>\n",
       "      <td>1</td>\n",
       "      <td>0</td>\n",
       "    </tr>\n",
       "    <tr>\n",
       "      <th>2</th>\n",
       "      <td>0</td>\n",
       "      <td>0</td>\n",
       "      <td>1</td>\n",
       "      <td>0</td>\n",
       "      <td>1</td>\n",
       "      <td>0</td>\n",
       "      <td>0</td>\n",
       "      <td>0</td>\n",
       "      <td>0</td>\n",
       "      <td>0</td>\n",
       "      <td>...</td>\n",
       "      <td>0</td>\n",
       "      <td>0</td>\n",
       "      <td>0</td>\n",
       "      <td>0</td>\n",
       "      <td>0</td>\n",
       "      <td>0</td>\n",
       "      <td>1</td>\n",
       "      <td>1</td>\n",
       "      <td>0</td>\n",
       "      <td>1</td>\n",
       "    </tr>\n",
       "    <tr>\n",
       "      <th>3</th>\n",
       "      <td>0</td>\n",
       "      <td>1</td>\n",
       "      <td>0</td>\n",
       "      <td>0</td>\n",
       "      <td>1</td>\n",
       "      <td>0</td>\n",
       "      <td>0</td>\n",
       "      <td>1</td>\n",
       "      <td>0</td>\n",
       "      <td>0</td>\n",
       "      <td>...</td>\n",
       "      <td>0</td>\n",
       "      <td>1</td>\n",
       "      <td>0</td>\n",
       "      <td>0</td>\n",
       "      <td>0</td>\n",
       "      <td>1</td>\n",
       "      <td>0</td>\n",
       "      <td>1</td>\n",
       "      <td>0</td>\n",
       "      <td>1</td>\n",
       "    </tr>\n",
       "    <tr>\n",
       "      <th>4</th>\n",
       "      <td>0</td>\n",
       "      <td>0</td>\n",
       "      <td>1</td>\n",
       "      <td>0</td>\n",
       "      <td>1</td>\n",
       "      <td>0</td>\n",
       "      <td>0</td>\n",
       "      <td>0</td>\n",
       "      <td>0</td>\n",
       "      <td>1</td>\n",
       "      <td>...</td>\n",
       "      <td>0</td>\n",
       "      <td>0</td>\n",
       "      <td>0</td>\n",
       "      <td>0</td>\n",
       "      <td>0</td>\n",
       "      <td>1</td>\n",
       "      <td>0</td>\n",
       "      <td>1</td>\n",
       "      <td>1</td>\n",
       "      <td>0</td>\n",
       "    </tr>\n",
       "  </tbody>\n",
       "</table>\n",
       "<p>5 rows × 29 columns</p>\n",
       "</div>"
      ],
      "text/plain": [
       "   BusinessTravel_Non-Travel  BusinessTravel_Travel_Frequently  \\\n",
       "0                          0                                 0   \n",
       "1                          0                                 1   \n",
       "2                          0                                 0   \n",
       "3                          0                                 1   \n",
       "4                          0                                 0   \n",
       "\n",
       "   BusinessTravel_Travel_Rarely  Department_Human Resources  \\\n",
       "0                             1                           0   \n",
       "1                             0                           0   \n",
       "2                             1                           0   \n",
       "3                             0                           0   \n",
       "4                             1                           0   \n",
       "\n",
       "   Department_Research & Development  Department_Sales  \\\n",
       "0                                  0                 1   \n",
       "1                                  1                 0   \n",
       "2                                  1                 0   \n",
       "3                                  1                 0   \n",
       "4                                  1                 0   \n",
       "\n",
       "   EducationField_Human Resources  EducationField_Life Sciences  \\\n",
       "0                               0                             1   \n",
       "1                               0                             1   \n",
       "2                               0                             0   \n",
       "3                               0                             1   \n",
       "4                               0                             0   \n",
       "\n",
       "   EducationField_Marketing  EducationField_Medical  ...  \\\n",
       "0                         0                       0  ...   \n",
       "1                         0                       0  ...   \n",
       "2                         0                       0  ...   \n",
       "3                         0                       0  ...   \n",
       "4                         0                       1  ...   \n",
       "\n",
       "   JobRole_Research Director  JobRole_Research Scientist  \\\n",
       "0                          0                           0   \n",
       "1                          0                           1   \n",
       "2                          0                           0   \n",
       "3                          0                           1   \n",
       "4                          0                           0   \n",
       "\n",
       "   JobRole_Sales Executive  JobRole_Sales Representative  \\\n",
       "0                        1                             0   \n",
       "1                        0                             0   \n",
       "2                        0                             0   \n",
       "3                        0                             0   \n",
       "4                        0                             0   \n",
       "\n",
       "   MaritalStatus_Divorced  MaritalStatus_Married  MaritalStatus_Single  \\\n",
       "0                       0                      0                     1   \n",
       "1                       0                      1                     0   \n",
       "2                       0                      0                     1   \n",
       "3                       0                      1                     0   \n",
       "4                       0                      1                     0   \n",
       "\n",
       "   Over18_Y  OverTime_No  OverTime_Yes  \n",
       "0         1            0             1  \n",
       "1         1            1             0  \n",
       "2         1            0             1  \n",
       "3         1            0             1  \n",
       "4         1            1             0  \n",
       "\n",
       "[5 rows x 29 columns]"
      ]
     },
     "execution_count": 13,
     "metadata": {},
     "output_type": "execute_result"
    }
   ],
   "source": [
    "# encode only independent variables\n",
    "df_categorical= df_categorical.drop([\"Attrition\"],axis=1)\n",
    "\n",
    "#encode using get_dummies()\n",
    "df_categorical_encoded=pd.get_dummies(df_categorical)\n",
    "df_categorical_encoded.head(5)\n"
   ]
  },
  {
   "cell_type": "code",
   "execution_count": 14,
   "id": "9b6fade9",
   "metadata": {},
   "outputs": [
    {
     "name": "stdout",
     "output_type": "stream",
     "text": [
      "(1470, 29)\n"
     ]
    }
   ],
   "source": [
    "print(df_categorical_encoded.shape)"
   ]
  },
  {
   "cell_type": "markdown",
   "id": "3bd766b1",
   "metadata": {},
   "source": [
    "### 3.2 Scaling Numeric variables"
   ]
  },
  {
   "cell_type": "code",
   "execution_count": 15,
   "id": "a8b7bbb5",
   "metadata": {},
   "outputs": [],
   "source": [
    "standard_scaler= StandardScaler()"
   ]
  },
  {
   "cell_type": "code",
   "execution_count": 16,
   "id": "ba1c47e2",
   "metadata": {},
   "outputs": [],
   "source": [
    "df_num_scaled=standard_scaler.fit_transform(df_numerical)\n",
    "df_num_scaled=pd.DataFrame(data=df_num_scaled,columns=df_numerical.columns,index=df_numerical.index)"
   ]
  },
  {
   "cell_type": "code",
   "execution_count": 17,
   "id": "9b9ed24c",
   "metadata": {},
   "outputs": [
    {
     "data": {
      "text/plain": [
       "(1470, 26)"
      ]
     },
     "execution_count": 17,
     "metadata": {},
     "output_type": "execute_result"
    }
   ],
   "source": [
    "df_num_scaled.shape"
   ]
  },
  {
   "cell_type": "code",
   "execution_count": 18,
   "id": "494c63c9",
   "metadata": {},
   "outputs": [
    {
     "data": {
      "text/plain": [
       "(1470, 29)"
      ]
     },
     "execution_count": 18,
     "metadata": {},
     "output_type": "execute_result"
    }
   ],
   "source": [
    "df_categorical_encoded.shape"
   ]
  },
  {
   "cell_type": "code",
   "execution_count": 19,
   "id": "9c5bbaae",
   "metadata": {},
   "outputs": [
    {
     "name": "stdout",
     "output_type": "stream",
     "text": [
      "Shape of final dataframe:  (1470, 55)\n"
     ]
    }
   ],
   "source": [
    "#Combining the Categorical and Numeric features\n",
    "df_transformed_final = pd.concat([df_num_scaled,df_categorical_encoded], axis = 1)\n",
    "print(\"Shape of final dataframe: \",df_transformed_final.shape)"
   ]
  },
  {
   "cell_type": "code",
   "execution_count": 20,
   "id": "55d5ca7c",
   "metadata": {},
   "outputs": [
    {
     "name": "stdout",
     "output_type": "stream",
     "text": [
      "Shape of target:  (1470,)\n"
     ]
    }
   ],
   "source": [
    "#Extracting the target variable - 'Attrition'\n",
    "target = df['Attrition']\n",
    "\n",
    "#Mapping 'Yes' to 1 and 'No' to 0\n",
    "map = {'Yes':1, 'No':0}\n",
    "target = target.apply(lambda x: map[x])\n",
    "\n",
    "print(\"Shape of target: \",target.shape)\n",
    "\n",
    "X = df_transformed_final #Features\n",
    "y = target #Target"
   ]
  },
  {
   "cell_type": "markdown",
   "id": "7852c385",
   "metadata": {},
   "source": [
    "### 3.3 Train test split"
   ]
  },
  {
   "cell_type": "code",
   "execution_count": 21,
   "id": "d270285f",
   "metadata": {},
   "outputs": [
    {
     "name": "stdout",
     "output_type": "stream",
     "text": [
      "Shape of X Train:  (1176, 55)\n",
      "Shape of X Test:  (294, 55)\n",
      "Shape of y Train:  (1176,)\n",
      "Shape of y Test:  (294,)\n"
     ]
    }
   ],
   "source": [
    "#Splitting into Train and Test dataset in 80-20 ratio\n",
    "X_train, X_test, y_train, y_test = train_test_split(X,y,train_size = 0.8, random_state = 0, stratify = y)\n",
    "print(\"Shape of X Train: \",X_train.shape)\n",
    "print(\"Shape of X Test: \",X_test.shape)\n",
    "print(\"Shape of y Train: \",y_train.shape)\n",
    "print(\"Shape of y Test: \",y_test.shape)"
   ]
  },
  {
   "cell_type": "markdown",
   "id": "da592ed1",
   "metadata": {},
   "source": [
    "## Step 4 : Model Fitting"
   ]
  },
  {
   "cell_type": "markdown",
   "id": "679b81ae",
   "metadata": {},
   "source": [
    "# Adaboost Classifier\n",
    "##### The most important parameters are base_estimator, n_estimators and learning_rate.\n",
    "\n",
    "##### 1. base_estimator  - It is the learning algorithm to use to train the weak models. The default Learning Algorithm is DecisionTreeClassifier with Max Depth of 1\n",
    "\n",
    "#####  2. n_estimators - It is the number of models to iteratively train.\n",
    "\n",
    "#####  3.learning_rate - It is the contribution of each model to the weights and default value for it is 1. There is a trade-off between learning_rate and n_estimators. Reducing the learning rate will forcing the model train slower (but sometimes resulting in better performance scores). Decreasing the learning rate L makes the coefficients α_m smaller, which reduces the amplitude of the sample_weights at each step (As per weight formula we use at each step for updating weights). "
   ]
  },
  {
   "cell_type": "markdown",
   "id": "c44236b8",
   "metadata": {},
   "source": [
    "## Model 1: Default Model"
   ]
  },
  {
   "cell_type": "code",
   "execution_count": 22,
   "id": "9a94a1c4",
   "metadata": {},
   "outputs": [],
   "source": [
    "from sklearn.metrics import classification_report\n",
    "from sklearn.metrics import confusion_matrix, accuracy_score"
   ]
  },
  {
   "cell_type": "code",
   "execution_count": 23,
   "id": "056bdbb7",
   "metadata": {},
   "outputs": [],
   "source": [
    "def evaluate_model(dt_classifier):\n",
    "    print(\"Train Accuracy :\", accuracy_score(y_train, dt_classifier.predict(X_train)))\n",
    "    print(\"Train Confusion Matrix:\")\n",
    "    print(confusion_matrix(y_train, dt_classifier.predict(X_train)))\n",
    "    print(\"-\"*50)\n",
    "    print(\"Test Accuracy :\", accuracy_score(y_test, dt_classifier.predict(X_test)))\n",
    "    print(\"Test Confusion Matrix:\")\n",
    "    print(confusion_matrix(y_test, dt_classifier.predict(X_test)))"
   ]
  },
  {
   "cell_type": "code",
   "execution_count": 24,
   "id": "edf111f2",
   "metadata": {},
   "outputs": [
    {
     "data": {
      "text/plain": [
       "{'algorithm': 'SAMME.R',\n",
       " 'base_estimator': None,\n",
       " 'learning_rate': 1.0,\n",
       " 'n_estimators': 50,\n",
       " 'random_state': 100}"
      ]
     },
     "execution_count": 24,
     "metadata": {},
     "output_type": "execute_result"
    }
   ],
   "source": [
    "adaboost_default = AdaBoostClassifier(random_state=100) # default \n",
    "adaboost_default.get_params()"
   ]
  },
  {
   "cell_type": "code",
   "execution_count": 25,
   "id": "44a090cb",
   "metadata": {},
   "outputs": [
    {
     "data": {
      "text/plain": [
       "AdaBoostClassifier(random_state=100)"
      ]
     },
     "execution_count": 25,
     "metadata": {},
     "output_type": "execute_result"
    }
   ],
   "source": [
    "#Fitting Model\n",
    "adaboost_default.fit(X_train, y_train)"
   ]
  },
  {
   "cell_type": "code",
   "execution_count": 26,
   "id": "cbe2b810",
   "metadata": {},
   "outputs": [],
   "source": [
    "# Get our predictions\n",
    "adaboost_predictions = adaboost_default.predict(X_test)"
   ]
  },
  {
   "cell_type": "code",
   "execution_count": 27,
   "id": "92193bea",
   "metadata": {},
   "outputs": [
    {
     "data": {
      "text/plain": [
       "array([[0.53546703, 0.46453297],\n",
       "       [0.52084492, 0.47915508],\n",
       "       [0.51000703, 0.48999297],\n",
       "       [0.51585199, 0.48414801],\n",
       "       [0.52318135, 0.47681865],\n",
       "       [0.50804497, 0.49195503],\n",
       "       [0.50234071, 0.49765929],\n",
       "       [0.51525919, 0.48474081],\n",
       "       [0.5162771 , 0.4837229 ],\n",
       "       [0.53130288, 0.46869712],\n",
       "       [0.50376476, 0.49623524],\n",
       "       [0.53135968, 0.46864032],\n",
       "       [0.52691044, 0.47308956],\n",
       "       [0.51122859, 0.48877141],\n",
       "       [0.49489129, 0.50510871],\n",
       "       [0.5067925 , 0.4932075 ],\n",
       "       [0.51028642, 0.48971358],\n",
       "       [0.50943269, 0.49056731],\n",
       "       [0.5199305 , 0.4800695 ],\n",
       "       [0.52460331, 0.47539669],\n",
       "       [0.51976781, 0.48023219],\n",
       "       [0.52002757, 0.47997243],\n",
       "       [0.51683187, 0.48316813],\n",
       "       [0.54549157, 0.45450843],\n",
       "       [0.52402767, 0.47597233],\n",
       "       [0.4998677 , 0.5001323 ],\n",
       "       [0.50121291, 0.49878709],\n",
       "       [0.50697132, 0.49302868],\n",
       "       [0.51001958, 0.48998042],\n",
       "       [0.52984679, 0.47015321],\n",
       "       [0.4840969 , 0.5159031 ],\n",
       "       [0.51565112, 0.48434888],\n",
       "       [0.50316695, 0.49683305],\n",
       "       [0.69407139, 0.30592861],\n",
       "       [0.51468997, 0.48531003],\n",
       "       [0.52817323, 0.47182677],\n",
       "       [0.50394646, 0.49605354],\n",
       "       [0.50681869, 0.49318131],\n",
       "       [0.50736984, 0.49263016],\n",
       "       [0.52874349, 0.47125651],\n",
       "       [0.51731767, 0.48268233],\n",
       "       [0.51468997, 0.48531003],\n",
       "       [0.51967515, 0.48032485],\n",
       "       [0.5029403 , 0.4970597 ],\n",
       "       [0.49021262, 0.50978738],\n",
       "       [0.51833942, 0.48166058],\n",
       "       [0.50833543, 0.49166457],\n",
       "       [0.53039109, 0.46960891],\n",
       "       [0.50531984, 0.49468016],\n",
       "       [0.52332796, 0.47667204],\n",
       "       [0.49914332, 0.50085668],\n",
       "       [0.49929137, 0.50070863],\n",
       "       [0.49916131, 0.50083869],\n",
       "       [0.52279198, 0.47720802],\n",
       "       [0.52093835, 0.47906165],\n",
       "       [0.53010083, 0.46989917],\n",
       "       [0.51314871, 0.48685129],\n",
       "       [0.50382397, 0.49617603],\n",
       "       [0.50692896, 0.49307104],\n",
       "       [0.49090144, 0.50909856],\n",
       "       [0.52208013, 0.47791987],\n",
       "       [0.53126889, 0.46873111],\n",
       "       [0.69043652, 0.30956348],\n",
       "       [0.50056956, 0.49943044],\n",
       "       [0.52403678, 0.47596322],\n",
       "       [0.51572502, 0.48427498],\n",
       "       [0.51218215, 0.48781785],\n",
       "       [0.5191028 , 0.4808972 ],\n",
       "       [0.51581119, 0.48418881],\n",
       "       [0.50204149, 0.49795851],\n",
       "       [0.50495001, 0.49504999],\n",
       "       [0.52870866, 0.47129134],\n",
       "       [0.49349615, 0.50650385],\n",
       "       [0.52081648, 0.47918352],\n",
       "       [0.48888814, 0.51111186],\n",
       "       [0.51267107, 0.48732893],\n",
       "       [0.4970236 , 0.5029764 ],\n",
       "       [0.50448107, 0.49551893],\n",
       "       [0.51983903, 0.48016097],\n",
       "       [0.51127441, 0.48872559],\n",
       "       [0.50030468, 0.49969532],\n",
       "       [0.53613627, 0.46386373],\n",
       "       [0.52694046, 0.47305954],\n",
       "       [0.49709416, 0.50290584],\n",
       "       [0.52300401, 0.47699599],\n",
       "       [0.50706234, 0.49293766],\n",
       "       [0.51644501, 0.48355499],\n",
       "       [0.52994424, 0.47005576],\n",
       "       [0.51056107, 0.48943893],\n",
       "       [0.50954173, 0.49045827],\n",
       "       [0.53606479, 0.46393521],\n",
       "       [0.5151152 , 0.4848848 ],\n",
       "       [0.52636825, 0.47363175],\n",
       "       [0.5215086 , 0.4784914 ],\n",
       "       [0.50517449, 0.49482551],\n",
       "       [0.50348988, 0.49651012],\n",
       "       [0.49789108, 0.50210892],\n",
       "       [0.51216302, 0.48783698],\n",
       "       [0.51814593, 0.48185407],\n",
       "       [0.52232837, 0.47767163],\n",
       "       [0.52194337, 0.47805663],\n",
       "       [0.51429155, 0.48570845],\n",
       "       [0.49485381, 0.50514619],\n",
       "       [0.52479751, 0.47520249],\n",
       "       [0.50013868, 0.49986132],\n",
       "       [0.50737794, 0.49262206],\n",
       "       [0.51161508, 0.48838492],\n",
       "       [0.50878055, 0.49121945],\n",
       "       [0.50156564, 0.49843436],\n",
       "       [0.5000016 , 0.4999984 ],\n",
       "       [0.52207563, 0.47792437],\n",
       "       [0.49311015, 0.50688985],\n",
       "       [0.4924017 , 0.5075983 ],\n",
       "       [0.52165477, 0.47834523],\n",
       "       [0.51376218, 0.48623782],\n",
       "       [0.50950905, 0.49049095],\n",
       "       [0.51485007, 0.48514993],\n",
       "       [0.52784843, 0.47215157],\n",
       "       [0.53336353, 0.46663647],\n",
       "       [0.50380499, 0.49619501],\n",
       "       [0.52040666, 0.47959334],\n",
       "       [0.49783894, 0.50216106],\n",
       "       [0.52866571, 0.47133429],\n",
       "       [0.51445305, 0.48554695],\n",
       "       [0.50808537, 0.49191463],\n",
       "       [0.49605197, 0.50394803],\n",
       "       [0.51632749, 0.48367251],\n",
       "       [0.50004972, 0.49995028],\n",
       "       [0.51025457, 0.48974543],\n",
       "       [0.51867982, 0.48132018],\n",
       "       [0.52875143, 0.47124857],\n",
       "       [0.51056969, 0.48943031],\n",
       "       [0.50384896, 0.49615104],\n",
       "       [0.51448124, 0.48551876],\n",
       "       [0.51193456, 0.48806544],\n",
       "       [0.50467302, 0.49532698],\n",
       "       [0.51354473, 0.48645527],\n",
       "       [0.50853929, 0.49146071],\n",
       "       [0.50349066, 0.49650934],\n",
       "       [0.50256886, 0.49743114],\n",
       "       [0.5057635 , 0.4942365 ],\n",
       "       [0.51992826, 0.48007174],\n",
       "       [0.51481259, 0.48518741],\n",
       "       [0.52643421, 0.47356579],\n",
       "       [0.51061592, 0.48938408],\n",
       "       [0.52564891, 0.47435109],\n",
       "       [0.50746445, 0.49253555],\n",
       "       [0.51121329, 0.48878671],\n",
       "       [0.50493776, 0.49506224],\n",
       "       [0.51582697, 0.48417303],\n",
       "       [0.5146925 , 0.4853075 ],\n",
       "       [0.50659031, 0.49340969],\n",
       "       [0.53239314, 0.46760686],\n",
       "       [0.5102849 , 0.4897151 ],\n",
       "       [0.52384598, 0.47615402],\n",
       "       [0.52020527, 0.47979473],\n",
       "       [0.5207693 , 0.4792307 ],\n",
       "       [0.5085736 , 0.4914264 ],\n",
       "       [0.51848199, 0.48151801],\n",
       "       [0.51654732, 0.48345268],\n",
       "       [0.5156208 , 0.4843792 ],\n",
       "       [0.50819322, 0.49180678],\n",
       "       [0.51044668, 0.48955332],\n",
       "       [0.52680662, 0.47319338],\n",
       "       [0.52129349, 0.47870651],\n",
       "       [0.52428081, 0.47571919],\n",
       "       [0.52410802, 0.47589198],\n",
       "       [0.51388985, 0.48611015],\n",
       "       [0.5122446 , 0.4877554 ],\n",
       "       [0.50822138, 0.49177862],\n",
       "       [0.52862504, 0.47137496],\n",
       "       [0.52190608, 0.47809392],\n",
       "       [0.50527413, 0.49472587],\n",
       "       [0.49592779, 0.50407221],\n",
       "       [0.50916599, 0.49083401],\n",
       "       [0.51363107, 0.48636893],\n",
       "       [0.52189304, 0.47810696],\n",
       "       [0.51951361, 0.48048639],\n",
       "       [0.52455869, 0.47544131],\n",
       "       [0.5230003 , 0.4769997 ],\n",
       "       [0.50299041, 0.49700959],\n",
       "       [0.50282542, 0.49717458],\n",
       "       [0.51886653, 0.48113347],\n",
       "       [0.50526781, 0.49473219],\n",
       "       [0.52197098, 0.47802902],\n",
       "       [0.50965308, 0.49034692],\n",
       "       [0.52695612, 0.47304388],\n",
       "       [0.52444173, 0.47555827],\n",
       "       [0.5147213 , 0.4852787 ],\n",
       "       [0.69285095, 0.30714905],\n",
       "       [0.69567166, 0.30432834],\n",
       "       [0.53470892, 0.46529108],\n",
       "       [0.51709074, 0.48290926],\n",
       "       [0.50653159, 0.49346841],\n",
       "       [0.51546046, 0.48453954],\n",
       "       [0.52205067, 0.47794933],\n",
       "       [0.49741121, 0.50258879],\n",
       "       [0.51452876, 0.48547124],\n",
       "       [0.50442404, 0.49557596],\n",
       "       [0.5048778 , 0.4951222 ],\n",
       "       [0.53700341, 0.46299659],\n",
       "       [0.50819594, 0.49180406],\n",
       "       [0.49459086, 0.50540914],\n",
       "       [0.5288543 , 0.4711457 ],\n",
       "       [0.51635716, 0.48364284],\n",
       "       [0.50971511, 0.49028489],\n",
       "       [0.52340131, 0.47659869],\n",
       "       [0.51758971, 0.48241029],\n",
       "       [0.69516165, 0.30483835],\n",
       "       [0.512079  , 0.487921  ],\n",
       "       [0.52075027, 0.47924973],\n",
       "       [0.51828744, 0.48171256],\n",
       "       [0.52424488, 0.47575512],\n",
       "       [0.5010325 , 0.4989675 ],\n",
       "       [0.50892511, 0.49107489],\n",
       "       [0.49678011, 0.50321989],\n",
       "       [0.51282235, 0.48717765],\n",
       "       [0.52013843, 0.47986157],\n",
       "       [0.51735292, 0.48264708],\n",
       "       [0.51281177, 0.48718823],\n",
       "       [0.50725908, 0.49274092],\n",
       "       [0.52198799, 0.47801201],\n",
       "       [0.51446376, 0.48553624],\n",
       "       [0.50593456, 0.49406544],\n",
       "       [0.50135231, 0.49864769],\n",
       "       [0.50575654, 0.49424346],\n",
       "       [0.53546048, 0.46453952],\n",
       "       [0.53566501, 0.46433499],\n",
       "       [0.50412796, 0.49587204],\n",
       "       [0.52838392, 0.47161608],\n",
       "       [0.51947672, 0.48052328],\n",
       "       [0.51189275, 0.48810725],\n",
       "       [0.51602986, 0.48397014],\n",
       "       [0.51106076, 0.48893924],\n",
       "       [0.5339272 , 0.4660728 ],\n",
       "       [0.51941847, 0.48058153],\n",
       "       [0.51159785, 0.48840215],\n",
       "       [0.51765188, 0.48234812],\n",
       "       [0.51133082, 0.48866918],\n",
       "       [0.5198979 , 0.4801021 ],\n",
       "       [0.5209228 , 0.4790772 ],\n",
       "       [0.50578272, 0.49421728],\n",
       "       [0.5190791 , 0.4809209 ],\n",
       "       [0.52328483, 0.47671517],\n",
       "       [0.51001095, 0.48998905],\n",
       "       [0.54287048, 0.45712952],\n",
       "       [0.54623501, 0.45376499],\n",
       "       [0.50596529, 0.49403471],\n",
       "       [0.51194101, 0.48805899],\n",
       "       [0.52356724, 0.47643276],\n",
       "       [0.53578424, 0.46421576],\n",
       "       [0.70049158, 0.29950842],\n",
       "       [0.68538919, 0.31461081],\n",
       "       [0.53480415, 0.46519585],\n",
       "       [0.51267597, 0.48732403],\n",
       "       [0.51422048, 0.48577952],\n",
       "       [0.51404704, 0.48595296],\n",
       "       [0.52269889, 0.47730111],\n",
       "       [0.51490613, 0.48509387],\n",
       "       [0.515252  , 0.484748  ],\n",
       "       [0.51783895, 0.48216105],\n",
       "       [0.53482269, 0.46517731],\n",
       "       [0.51111603, 0.48888397],\n",
       "       [0.52083238, 0.47916762],\n",
       "       [0.5076463 , 0.4923537 ],\n",
       "       [0.49693491, 0.50306509],\n",
       "       [0.50337878, 0.49662122],\n",
       "       [0.53304538, 0.46695462],\n",
       "       [0.54110344, 0.45889656],\n",
       "       [0.51871587, 0.48128413],\n",
       "       [0.51145942, 0.48854058],\n",
       "       [0.52507529, 0.47492471],\n",
       "       [0.5382354 , 0.4617646 ],\n",
       "       [0.51587352, 0.48412648],\n",
       "       [0.52023674, 0.47976326],\n",
       "       [0.51837407, 0.48162593],\n",
       "       [0.69304077, 0.30695923],\n",
       "       [0.5118564 , 0.4881436 ],\n",
       "       [0.49667844, 0.50332156],\n",
       "       [0.52185126, 0.47814874],\n",
       "       [0.52161598, 0.47838402],\n",
       "       [0.53136888, 0.46863112],\n",
       "       [0.51249024, 0.48750976],\n",
       "       [0.50832835, 0.49167165],\n",
       "       [0.51533649, 0.48466351],\n",
       "       [0.51675492, 0.48324508],\n",
       "       [0.52760439, 0.47239561],\n",
       "       [0.502028  , 0.497972  ],\n",
       "       [0.51759093, 0.48240907],\n",
       "       [0.50583412, 0.49416588],\n",
       "       [0.52128985, 0.47871015],\n",
       "       [0.70137331, 0.29862669],\n",
       "       [0.50035363, 0.49964637],\n",
       "       [0.5128225 , 0.4871775 ]])"
      ]
     },
     "execution_count": 27,
     "metadata": {},
     "output_type": "execute_result"
    }
   ],
   "source": [
    "adaboost_predictions_prob = adaboost_default.predict_proba(X_test)\n",
    "adaboost_predictions_prob"
   ]
  },
  {
   "cell_type": "code",
   "execution_count": 28,
   "id": "b73e5e54",
   "metadata": {},
   "outputs": [
    {
     "data": {
      "text/plain": [
       "0.8809523809523809"
      ]
     },
     "execution_count": 28,
     "metadata": {},
     "output_type": "execute_result"
    }
   ],
   "source": [
    "accuracy_score(y_test, adaboost_predictions)"
   ]
  },
  {
   "cell_type": "code",
   "execution_count": 29,
   "id": "b27d0972",
   "metadata": {},
   "outputs": [
    {
     "name": "stdout",
     "output_type": "stream",
     "text": [
      "Train Accuracy : 0.9141156462585034\n",
      "Train Confusion Matrix:\n",
      "[[966  20]\n",
      " [ 81 109]]\n",
      "--------------------------------------------------\n",
      "Test Accuracy : 0.8809523809523809\n",
      "Test Confusion Matrix:\n",
      "[[241   6]\n",
      " [ 29  18]]\n"
     ]
    }
   ],
   "source": [
    "evaluate_model(adaboost_default)"
   ]
  },
  {
   "cell_type": "markdown",
   "id": "ee64d807",
   "metadata": {},
   "source": [
    "## Model 2 -- With random parameter"
   ]
  },
  {
   "cell_type": "code",
   "execution_count": 30,
   "id": "2ee284a2",
   "metadata": {},
   "outputs": [],
   "source": [
    "#Using adaBoosting to predict 'Attrition' \n",
    "adaboost =  AdaBoostClassifier(n_estimators= 500,learning_rate=0.2,random_state=100)\n",
    "\n",
    "\n",
    "# No of Models \n",
    "\n",
    "# from sklearn.ensemble.AdaBoost\n",
    "# Accuracy or AUC is chagin with no of Model ( Weak Models )"
   ]
  },
  {
   "cell_type": "code",
   "execution_count": 31,
   "id": "cadabbd4",
   "metadata": {},
   "outputs": [
    {
     "data": {
      "text/plain": [
       "AdaBoostClassifier(learning_rate=0.2, n_estimators=500, random_state=100)"
      ]
     },
     "execution_count": 31,
     "metadata": {},
     "output_type": "execute_result"
    }
   ],
   "source": [
    "#Fitting Model\n",
    "adaboost.fit(X_train, y_train)"
   ]
  },
  {
   "cell_type": "code",
   "execution_count": 32,
   "id": "ed14c8a9",
   "metadata": {},
   "outputs": [],
   "source": [
    "#pred\n",
    "y_pred = adaboost.predict(X_test)"
   ]
  },
  {
   "cell_type": "code",
   "execution_count": 33,
   "id": "0abb6de9",
   "metadata": {},
   "outputs": [
    {
     "name": "stdout",
     "output_type": "stream",
     "text": [
      "Accuracy of the model is:   0.8673469387755102\n"
     ]
    }
   ],
   "source": [
    "print('Accuracy of the model is:  ',accuracy_score(y_test, y_pred))"
   ]
  },
  {
   "cell_type": "code",
   "execution_count": 34,
   "id": "70499341",
   "metadata": {},
   "outputs": [
    {
     "name": "stdout",
     "output_type": "stream",
     "text": [
      "The confusion Matrix : \n",
      " [[241   6]\n",
      " [ 33  14]]\n"
     ]
    }
   ],
   "source": [
    "#Confusion Matrix\n",
    "cm = confusion_matrix(y_test, y_pred)\n",
    "print('The confusion Matrix : \\n',cm)"
   ]
  },
  {
   "cell_type": "code",
   "execution_count": 35,
   "id": "92134071",
   "metadata": {},
   "outputs": [
    {
     "name": "stdout",
     "output_type": "stream",
     "text": [
      "Train Accuracy : 0.9141156462585034\n",
      "Train Confusion Matrix:\n",
      "[[973  13]\n",
      " [ 88 102]]\n",
      "--------------------------------------------------\n",
      "Test Accuracy : 0.8673469387755102\n",
      "Test Confusion Matrix:\n",
      "[[241   6]\n",
      " [ 33  14]]\n"
     ]
    }
   ],
   "source": [
    "evaluate_model(adaboost)"
   ]
  },
  {
   "cell_type": "markdown",
   "id": "5f178d71",
   "metadata": {},
   "source": [
    "## Hypertunning parameter using GridSearch CV"
   ]
  },
  {
   "cell_type": "markdown",
   "id": "89baedcd",
   "metadata": {},
   "source": [
    "## Model 3"
   ]
  },
  {
   "cell_type": "code",
   "execution_count": 36,
   "id": "3a55c70f",
   "metadata": {},
   "outputs": [],
   "source": [
    "from sklearn.model_selection import GridSearchCV"
   ]
  },
  {
   "cell_type": "code",
   "execution_count": 37,
   "id": "095d096f",
   "metadata": {},
   "outputs": [],
   "source": [
    "# Create the parameter grid based on the results of random search \n",
    "\n",
    "\n",
    "params = {'base_estimator__max_depth':[i for i in range(2,11,2)],\n",
    "              'base_estimator__min_samples_leaf':[5,10],\n",
    "              'n_estimators':[10,50,250,1000],\n",
    "              'learning_rate':[0.01,0.1]}"
   ]
  },
  {
   "cell_type": "code",
   "execution_count": 38,
   "id": "c6be9596",
   "metadata": {},
   "outputs": [],
   "source": [
    "ab = AdaBoostClassifier(base_estimator=DecisionTreeClassifier())"
   ]
  },
  {
   "cell_type": "code",
   "execution_count": 39,
   "id": "3bb6b6d0",
   "metadata": {},
   "outputs": [],
   "source": [
    "# Instantiate the grid search model\n",
    "grid_search = GridSearchCV(estimator=ab, \n",
    "                           param_grid=params, \n",
    "                           cv=4, n_jobs=-1, verbose=1, scoring = \"accuracy\")"
   ]
  },
  {
   "cell_type": "code",
   "execution_count": 40,
   "id": "c2ee6866",
   "metadata": {},
   "outputs": [
    {
     "name": "stdout",
     "output_type": "stream",
     "text": [
      "Fitting 4 folds for each of 80 candidates, totalling 320 fits\n",
      "CPU times: user 3.36 s, sys: 196 ms, total: 3.56 s\n",
      "Wall time: 1min 38s\n"
     ]
    },
    {
     "data": {
      "text/plain": [
       "GridSearchCV(cv=4,\n",
       "             estimator=AdaBoostClassifier(base_estimator=DecisionTreeClassifier()),\n",
       "             n_jobs=-1,\n",
       "             param_grid={'base_estimator__max_depth': [2, 4, 6, 8, 10],\n",
       "                         'base_estimator__min_samples_leaf': [5, 10],\n",
       "                         'learning_rate': [0.01, 0.1],\n",
       "                         'n_estimators': [10, 50, 250, 1000]},\n",
       "             scoring='accuracy', verbose=1)"
      ]
     },
     "execution_count": 40,
     "metadata": {},
     "output_type": "execute_result"
    }
   ],
   "source": [
    "%%time\n",
    "grid_search.fit(X_train, y_train)"
   ]
  },
  {
   "cell_type": "code",
   "execution_count": 41,
   "id": "6cf0bee5",
   "metadata": {},
   "outputs": [
    {
     "data": {
      "text/html": [
       "<div>\n",
       "<style scoped>\n",
       "    .dataframe tbody tr th:only-of-type {\n",
       "        vertical-align: middle;\n",
       "    }\n",
       "\n",
       "    .dataframe tbody tr th {\n",
       "        vertical-align: top;\n",
       "    }\n",
       "\n",
       "    .dataframe thead th {\n",
       "        text-align: right;\n",
       "    }\n",
       "</style>\n",
       "<table border=\"1\" class=\"dataframe\">\n",
       "  <thead>\n",
       "    <tr style=\"text-align: right;\">\n",
       "      <th></th>\n",
       "      <th>mean_fit_time</th>\n",
       "      <th>std_fit_time</th>\n",
       "      <th>mean_score_time</th>\n",
       "      <th>std_score_time</th>\n",
       "      <th>param_base_estimator__max_depth</th>\n",
       "      <th>param_base_estimator__min_samples_leaf</th>\n",
       "      <th>param_learning_rate</th>\n",
       "      <th>param_n_estimators</th>\n",
       "      <th>params</th>\n",
       "      <th>split0_test_score</th>\n",
       "      <th>split1_test_score</th>\n",
       "      <th>split2_test_score</th>\n",
       "      <th>split3_test_score</th>\n",
       "      <th>mean_test_score</th>\n",
       "      <th>std_test_score</th>\n",
       "      <th>rank_test_score</th>\n",
       "    </tr>\n",
       "  </thead>\n",
       "  <tbody>\n",
       "    <tr>\n",
       "      <th>0</th>\n",
       "      <td>0.050378</td>\n",
       "      <td>0.011310</td>\n",
       "      <td>0.006882</td>\n",
       "      <td>0.002733</td>\n",
       "      <td>2</td>\n",
       "      <td>5</td>\n",
       "      <td>0.01</td>\n",
       "      <td>10</td>\n",
       "      <td>{'base_estimator__max_depth': 2, 'base_estimat...</td>\n",
       "      <td>0.853741</td>\n",
       "      <td>0.836735</td>\n",
       "      <td>0.853741</td>\n",
       "      <td>0.846939</td>\n",
       "      <td>0.847789</td>\n",
       "      <td>0.006960</td>\n",
       "      <td>39</td>\n",
       "    </tr>\n",
       "    <tr>\n",
       "      <th>1</th>\n",
       "      <td>0.168284</td>\n",
       "      <td>0.003464</td>\n",
       "      <td>0.008605</td>\n",
       "      <td>0.002940</td>\n",
       "      <td>2</td>\n",
       "      <td>5</td>\n",
       "      <td>0.01</td>\n",
       "      <td>50</td>\n",
       "      <td>{'base_estimator__max_depth': 2, 'base_estimat...</td>\n",
       "      <td>0.853741</td>\n",
       "      <td>0.843537</td>\n",
       "      <td>0.853741</td>\n",
       "      <td>0.846939</td>\n",
       "      <td>0.849490</td>\n",
       "      <td>0.004418</td>\n",
       "      <td>30</td>\n",
       "    </tr>\n",
       "    <tr>\n",
       "      <th>2</th>\n",
       "      <td>0.826366</td>\n",
       "      <td>0.016664</td>\n",
       "      <td>0.039442</td>\n",
       "      <td>0.004828</td>\n",
       "      <td>2</td>\n",
       "      <td>5</td>\n",
       "      <td>0.01</td>\n",
       "      <td>250</td>\n",
       "      <td>{'base_estimator__max_depth': 2, 'base_estimat...</td>\n",
       "      <td>0.846939</td>\n",
       "      <td>0.853741</td>\n",
       "      <td>0.863946</td>\n",
       "      <td>0.846939</td>\n",
       "      <td>0.852891</td>\n",
       "      <td>0.006960</td>\n",
       "      <td>14</td>\n",
       "    </tr>\n",
       "    <tr>\n",
       "      <th>3</th>\n",
       "      <td>3.299372</td>\n",
       "      <td>0.014958</td>\n",
       "      <td>0.134983</td>\n",
       "      <td>0.005649</td>\n",
       "      <td>2</td>\n",
       "      <td>5</td>\n",
       "      <td>0.01</td>\n",
       "      <td>1000</td>\n",
       "      <td>{'base_estimator__max_depth': 2, 'base_estimat...</td>\n",
       "      <td>0.850340</td>\n",
       "      <td>0.870748</td>\n",
       "      <td>0.870748</td>\n",
       "      <td>0.853741</td>\n",
       "      <td>0.861395</td>\n",
       "      <td>0.009431</td>\n",
       "      <td>3</td>\n",
       "    </tr>\n",
       "    <tr>\n",
       "      <th>4</th>\n",
       "      <td>0.038346</td>\n",
       "      <td>0.001715</td>\n",
       "      <td>0.003849</td>\n",
       "      <td>0.002056</td>\n",
       "      <td>2</td>\n",
       "      <td>5</td>\n",
       "      <td>0.1</td>\n",
       "      <td>10</td>\n",
       "      <td>{'base_estimator__max_depth': 2, 'base_estimat...</td>\n",
       "      <td>0.850340</td>\n",
       "      <td>0.846939</td>\n",
       "      <td>0.853741</td>\n",
       "      <td>0.850340</td>\n",
       "      <td>0.850340</td>\n",
       "      <td>0.002405</td>\n",
       "      <td>27</td>\n",
       "    </tr>\n",
       "  </tbody>\n",
       "</table>\n",
       "</div>"
      ],
      "text/plain": [
       "   mean_fit_time  std_fit_time  mean_score_time  std_score_time  \\\n",
       "0       0.050378      0.011310         0.006882        0.002733   \n",
       "1       0.168284      0.003464         0.008605        0.002940   \n",
       "2       0.826366      0.016664         0.039442        0.004828   \n",
       "3       3.299372      0.014958         0.134983        0.005649   \n",
       "4       0.038346      0.001715         0.003849        0.002056   \n",
       "\n",
       "  param_base_estimator__max_depth param_base_estimator__min_samples_leaf  \\\n",
       "0                               2                                      5   \n",
       "1                               2                                      5   \n",
       "2                               2                                      5   \n",
       "3                               2                                      5   \n",
       "4                               2                                      5   \n",
       "\n",
       "  param_learning_rate param_n_estimators  \\\n",
       "0                0.01                 10   \n",
       "1                0.01                 50   \n",
       "2                0.01                250   \n",
       "3                0.01               1000   \n",
       "4                 0.1                 10   \n",
       "\n",
       "                                              params  split0_test_score  \\\n",
       "0  {'base_estimator__max_depth': 2, 'base_estimat...           0.853741   \n",
       "1  {'base_estimator__max_depth': 2, 'base_estimat...           0.853741   \n",
       "2  {'base_estimator__max_depth': 2, 'base_estimat...           0.846939   \n",
       "3  {'base_estimator__max_depth': 2, 'base_estimat...           0.850340   \n",
       "4  {'base_estimator__max_depth': 2, 'base_estimat...           0.850340   \n",
       "\n",
       "   split1_test_score  split2_test_score  split3_test_score  mean_test_score  \\\n",
       "0           0.836735           0.853741           0.846939         0.847789   \n",
       "1           0.843537           0.853741           0.846939         0.849490   \n",
       "2           0.853741           0.863946           0.846939         0.852891   \n",
       "3           0.870748           0.870748           0.853741         0.861395   \n",
       "4           0.846939           0.853741           0.850340         0.850340   \n",
       "\n",
       "   std_test_score  rank_test_score  \n",
       "0        0.006960               39  \n",
       "1        0.004418               30  \n",
       "2        0.006960               14  \n",
       "3        0.009431                3  \n",
       "4        0.002405               27  "
      ]
     },
     "execution_count": 41,
     "metadata": {},
     "output_type": "execute_result"
    }
   ],
   "source": [
    "score_df = pd.DataFrame(grid_search.cv_results_)\n",
    "score_df.head()"
   ]
  },
  {
   "cell_type": "code",
   "execution_count": 42,
   "id": "d26fa496",
   "metadata": {},
   "outputs": [
    {
     "data": {
      "text/plain": [
       "AdaBoostClassifier(base_estimator=DecisionTreeClassifier(max_depth=2,\n",
       "                                                         min_samples_leaf=10),\n",
       "                   learning_rate=0.01, n_estimators=1000)"
      ]
     },
     "execution_count": 42,
     "metadata": {},
     "output_type": "execute_result"
    }
   ],
   "source": [
    "grid_search.best_estimator_"
   ]
  },
  {
   "cell_type": "code",
   "execution_count": 43,
   "id": "a501eea1",
   "metadata": {},
   "outputs": [],
   "source": [
    "Adaboost_best = grid_search.best_estimator_"
   ]
  },
  {
   "cell_type": "code",
   "execution_count": 44,
   "id": "ac47662c",
   "metadata": {},
   "outputs": [
    {
     "name": "stdout",
     "output_type": "stream",
     "text": [
      "Train Accuracy : 0.8979591836734694\n",
      "Train Confusion Matrix:\n",
      "[[984   2]\n",
      " [118  72]]\n",
      "--------------------------------------------------\n",
      "Test Accuracy : 0.8707482993197279\n",
      "Test Confusion Matrix:\n",
      "[[247   0]\n",
      " [ 38   9]]\n"
     ]
    }
   ],
   "source": [
    "evaluate_model(Adaboost_best)"
   ]
  },
  {
   "cell_type": "code",
   "execution_count": 45,
   "id": "dcf4f4b5",
   "metadata": {},
   "outputs": [
    {
     "name": "stdout",
     "output_type": "stream",
     "text": [
      "              precision    recall  f1-score   support\n",
      "\n",
      "           0       0.87      1.00      0.93       247\n",
      "           1       1.00      0.19      0.32        47\n",
      "\n",
      "    accuracy                           0.87       294\n",
      "   macro avg       0.93      0.60      0.62       294\n",
      "weighted avg       0.89      0.87      0.83       294\n",
      "\n"
     ]
    }
   ],
   "source": [
    "print(classification_report(y_test, Adaboost_best.predict(X_test)))"
   ]
  },
  {
   "cell_type": "markdown",
   "id": "4ce25357",
   "metadata": {},
   "source": [
    "## Observation:\n",
    "\n",
    "### Model 1 (default):\n",
    "\n",
    "- Train Accuracy : 0.9141156462585034\n",
    "- Train Confusion Matrix:<br>\n",
    " `[[966     20]<br>\n",
    "  [ 81     109]]'\n",
    "--------------------------------------------------\n",
    "- Test Accuracy : 0.8809523809523809\n",
    "- Test Confusion Matrix:<br>\n",
    "`[[241      6] ' <br>\n",
    " '[ 29     18]]'\n"
   ]
  },
  {
   "cell_type": "markdown",
   "id": "05ac95b2",
   "metadata": {},
   "source": [
    "### Model 2 (default):\n",
    "\n",
    "- Train Accuracy : 0.9141156462585034\n",
    "- Train Confusion Matrix:<br>\n",
    " [[973    13]<br>\n",
    " [ 88    102]]\n",
    "--------------------------------------------------\n",
    "- Test Accuracy : 0.8673469387755102\n",
    "- Test Confusion Matrix:<br>\n",
    "[[241     6]<br>\n",
    " [ 33    14]]\n",
    " \n",
    " "
   ]
  },
  {
   "cell_type": "markdown",
   "id": "19e7c6e9",
   "metadata": {},
   "source": [
    "## Model 3 (Hypertunning parameter using GridSearchCV)"
   ]
  },
  {
   "cell_type": "markdown",
   "id": "96617320",
   "metadata": {},
   "source": [
    "- Train Accuracy : 0.8979591836734694\n",
    " - Train Confusion Matrix:<br>\n",
    "[[984     2]<br>\n",
    " [118    72]]\n",
    "--------------------------------------------------\n",
    "- Test Accuracy : 0.8707482993197279\n",
    "- Test Confusion Matrix:<br>\n",
    "[[247     0]<br>\n",
    " [ 38     9]]"
   ]
  },
  {
   "cell_type": "code",
   "execution_count": null,
   "id": "3bed1727",
   "metadata": {},
   "outputs": [],
   "source": []
  }
 ],
 "metadata": {
  "kernelspec": {
   "display_name": "Python 3",
   "language": "python",
   "name": "python3"
  },
  "language_info": {
   "codemirror_mode": {
    "name": "ipython",
    "version": 3
   },
   "file_extension": ".py",
   "mimetype": "text/x-python",
   "name": "python",
   "nbconvert_exporter": "python",
   "pygments_lexer": "ipython3",
   "version": "3.8.8"
  }
 },
 "nbformat": 4,
 "nbformat_minor": 5
}
